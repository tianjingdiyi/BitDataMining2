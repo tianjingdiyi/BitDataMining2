{
 "cells": [
  {
   "cell_type": "markdown",
   "metadata": {},
   "source": [
    "# 数据挖掘——Wine Reviews数据集分析-2-关联规则挖掘"
   ]
  },
  {
   "cell_type": "markdown",
   "metadata": {},
   "source": [
    "    姓名：孙天艺\n",
    "    学号：3220190867 "
   ]
  },
  {
   "cell_type": "markdown",
   "metadata": {},
   "source": [
    "## 一、数据概览"
   ]
  },
  {
   "cell_type": "markdown",
   "metadata": {},
   "source": [
    "**<font color = blue>首先，读取数据，显示前几个数据，大概观察数据集</font>**"
   ]
  },
  {
   "cell_type": "code",
   "execution_count": null,
   "metadata": {},
   "outputs": [],
   "source": [
    "filename = 'winemag-data_first150k.csv'"
   ]
  },
  {
   "cell_type": "code",
   "execution_count": 5,
   "metadata": {},
   "outputs": [
    {
     "data": {
      "text/html": [
       "<div>\n",
       "<style scoped>\n",
       "    .dataframe tbody tr th:only-of-type {\n",
       "        vertical-align: middle;\n",
       "    }\n",
       "\n",
       "    .dataframe tbody tr th {\n",
       "        vertical-align: top;\n",
       "    }\n",
       "\n",
       "    .dataframe thead th {\n",
       "        text-align: right;\n",
       "    }\n",
       "</style>\n",
       "<table border=\"1\" class=\"dataframe\">\n",
       "  <thead>\n",
       "    <tr style=\"text-align: right;\">\n",
       "      <th></th>\n",
       "      <th>Unnamed: 0</th>\n",
       "      <th>country</th>\n",
       "      <th>description</th>\n",
       "      <th>designation</th>\n",
       "      <th>points</th>\n",
       "      <th>price</th>\n",
       "      <th>province</th>\n",
       "      <th>region_1</th>\n",
       "      <th>region_2</th>\n",
       "      <th>variety</th>\n",
       "      <th>winery</th>\n",
       "    </tr>\n",
       "  </thead>\n",
       "  <tbody>\n",
       "    <tr>\n",
       "      <th>0</th>\n",
       "      <td>0</td>\n",
       "      <td>US</td>\n",
       "      <td>This tremendous 100% varietal wine hails from ...</td>\n",
       "      <td>Martha's Vineyard</td>\n",
       "      <td>96</td>\n",
       "      <td>235.0</td>\n",
       "      <td>California</td>\n",
       "      <td>Napa Valley</td>\n",
       "      <td>Napa</td>\n",
       "      <td>Cabernet Sauvignon</td>\n",
       "      <td>Heitz</td>\n",
       "    </tr>\n",
       "    <tr>\n",
       "      <th>2</th>\n",
       "      <td>2</td>\n",
       "      <td>US</td>\n",
       "      <td>Mac Watson honors the memory of a wine once ma...</td>\n",
       "      <td>Special Selected Late Harvest</td>\n",
       "      <td>96</td>\n",
       "      <td>90.0</td>\n",
       "      <td>California</td>\n",
       "      <td>Knights Valley</td>\n",
       "      <td>Sonoma</td>\n",
       "      <td>Sauvignon Blanc</td>\n",
       "      <td>Macauley</td>\n",
       "    </tr>\n",
       "    <tr>\n",
       "      <th>3</th>\n",
       "      <td>3</td>\n",
       "      <td>US</td>\n",
       "      <td>This spent 20 months in 30% new French oak, an...</td>\n",
       "      <td>Reserve</td>\n",
       "      <td>96</td>\n",
       "      <td>65.0</td>\n",
       "      <td>Oregon</td>\n",
       "      <td>Willamette Valley</td>\n",
       "      <td>Willamette Valley</td>\n",
       "      <td>Pinot Noir</td>\n",
       "      <td>Ponzi</td>\n",
       "    </tr>\n",
       "    <tr>\n",
       "      <th>8</th>\n",
       "      <td>8</td>\n",
       "      <td>US</td>\n",
       "      <td>This re-named vineyard was formerly bottled as...</td>\n",
       "      <td>Silice</td>\n",
       "      <td>95</td>\n",
       "      <td>65.0</td>\n",
       "      <td>Oregon</td>\n",
       "      <td>Chehalem Mountains</td>\n",
       "      <td>Willamette Valley</td>\n",
       "      <td>Pinot Noir</td>\n",
       "      <td>Bergström</td>\n",
       "    </tr>\n",
       "    <tr>\n",
       "      <th>9</th>\n",
       "      <td>9</td>\n",
       "      <td>US</td>\n",
       "      <td>The producer sources from two blocks of the vi...</td>\n",
       "      <td>Gap's Crown Vineyard</td>\n",
       "      <td>95</td>\n",
       "      <td>60.0</td>\n",
       "      <td>California</td>\n",
       "      <td>Sonoma Coast</td>\n",
       "      <td>Sonoma</td>\n",
       "      <td>Pinot Noir</td>\n",
       "      <td>Blue Farm</td>\n",
       "    </tr>\n",
       "  </tbody>\n",
       "</table>\n",
       "</div>"
      ],
      "text/plain": [
       "   Unnamed: 0 country                                        description  \\\n",
       "0           0      US  This tremendous 100% varietal wine hails from ...   \n",
       "2           2      US  Mac Watson honors the memory of a wine once ma...   \n",
       "3           3      US  This spent 20 months in 30% new French oak, an...   \n",
       "8           8      US  This re-named vineyard was formerly bottled as...   \n",
       "9           9      US  The producer sources from two blocks of the vi...   \n",
       "\n",
       "                     designation  points  price    province  \\\n",
       "0              Martha's Vineyard      96  235.0  California   \n",
       "2  Special Selected Late Harvest      96   90.0  California   \n",
       "3                        Reserve      96   65.0      Oregon   \n",
       "8                         Silice      95   65.0      Oregon   \n",
       "9           Gap's Crown Vineyard      95   60.0  California   \n",
       "\n",
       "             region_1           region_2             variety     winery  \n",
       "0         Napa Valley               Napa  Cabernet Sauvignon      Heitz  \n",
       "2      Knights Valley             Sonoma     Sauvignon Blanc   Macauley  \n",
       "3   Willamette Valley  Willamette Valley          Pinot Noir      Ponzi  \n",
       "8  Chehalem Mountains  Willamette Valley          Pinot Noir  Bergström  \n",
       "9        Sonoma Coast             Sonoma          Pinot Noir  Blue Farm  "
      ]
     },
     "execution_count": 5,
     "metadata": {},
     "output_type": "execute_result"
    }
   ],
   "source": [
    "import pandas as pd\n",
    "winedata = pd.read_csv(filename)\n",
    "\n",
    "winedata = winedata.dropna()\n",
    "winedata.head()    #显示前5行"
   ]
  },
  {
   "cell_type": "code",
   "execution_count": 7,
   "metadata": {},
   "outputs": [
    {
     "name": "stdout",
     "output_type": "stream",
     "text": [
      "<class 'pandas.core.frame.DataFrame'>\n",
      "Int64Index: 39241 entries, 0 to 150916\n",
      "Data columns (total 11 columns):\n",
      " #   Column       Non-Null Count  Dtype  \n",
      "---  ------       --------------  -----  \n",
      " 0   Unnamed: 0   39241 non-null  int64  \n",
      " 1   country      39241 non-null  object \n",
      " 2   description  39241 non-null  object \n",
      " 3   designation  39241 non-null  object \n",
      " 4   points       39241 non-null  int64  \n",
      " 5   price        39241 non-null  float64\n",
      " 6   province     39241 non-null  object \n",
      " 7   region_1     39241 non-null  object \n",
      " 8   region_2     39241 non-null  object \n",
      " 9   variety      39241 non-null  object \n",
      " 10  winery       39241 non-null  object \n",
      "dtypes: float64(1), int64(2), object(8)\n",
      "memory usage: 3.6+ MB\n"
     ]
    }
   ],
   "source": [
    "winedata.info()    #样本数据的相关信息概览"
   ]
  },
  {
   "cell_type": "markdown",
   "metadata": {},
   "source": [
    "**<font color = blue>然后，去除显然为独特信息，无法依靠统计填补缺失的（未命名列）序号、description列数据</font>**"
   ]
  },
  {
   "cell_type": "code",
   "execution_count": 11,
   "metadata": {},
   "outputs": [
    {
     "name": "stdout",
     "output_type": "stream",
     "text": [
      "<class 'pandas.core.frame.DataFrame'>\n",
      "Int64Index: 39241 entries, 0 to 150916\n",
      "Data columns (total 9 columns):\n",
      " #   Column       Non-Null Count  Dtype  \n",
      "---  ------       --------------  -----  \n",
      " 0   country      39241 non-null  object \n",
      " 1   designation  39241 non-null  object \n",
      " 2   points       39241 non-null  int64  \n",
      " 3   price        39241 non-null  float64\n",
      " 4   province     39241 non-null  object \n",
      " 5   region_1     39241 non-null  object \n",
      " 6   region_2     39241 non-null  object \n",
      " 7   variety      39241 non-null  object \n",
      " 8   winery       39241 non-null  object \n",
      "dtypes: float64(1), int64(1), object(7)\n",
      "memory usage: 3.0+ MB\n"
     ]
    }
   ],
   "source": [
    "#去除显然为独特信息，无法依靠统计填补缺失的（未命名列）序号、description列数据\n",
    "winedata = winedata.drop(columns=['Unnamed: 0','description'])\n",
    "\n",
    "winedata.info()"
   ]
  },
  {
   "cell_type": "markdown",
   "metadata": {},
   "source": [
    "## 二、数据集处理——转换成适合进行关联规则挖掘的形式"
   ]
  },
  {
   "cell_type": "markdown",
   "metadata": {},
   "source": [
    "**<font color = blue>在数据集中可以发现points和price是连续型数据，因此需要对这两个连续特征作离散化处理</font>**"
   ]
  },
  {
   "cell_type": "markdown",
   "metadata": {},
   "source": [
    "_<mark><font color = green>首先，观察两者直方分布情况.</font><mark>_"
   ]
  },
  {
   "cell_type": "code",
   "execution_count": 12,
   "metadata": {},
   "outputs": [
    {
     "data": {
      "text/plain": [
       "<matplotlib.axes._subplots.AxesSubplot at 0x2131baad208>"
      ]
     },
     "execution_count": 12,
     "metadata": {},
     "output_type": "execute_result"
    },
    {
     "data": {
      "image/png": "[encoded data removed]",
      "text/plain": [
       "<Figure size 432x288 with 1 Axes>"
      ]
     },
     "metadata": {
      "needs_background": "light"
     },
     "output_type": "display_data"
    },
    {
     "data": {
      "image/png": "[encoded data removed]",
      "text/plain": [
       "<Figure size 432x288 with 1 Axes>"
      ]
     },
     "metadata": {
      "needs_background": "light"
     },
     "output_type": "display_data"
    }
   ],
   "source": [
    "winedata['price'].loc[winedata['price']<200].hist(bins=20)\n",
    "plt.figure()\n",
    "winedata['points'].hist()"
   ]
  },
  {
   "cell_type": "markdown",
   "metadata": {},
   "source": [
    "_<mark><font color = green>然后，处理 points</font><mark>_"
   ]
  },
  {
   "cell_type": "code",
   "execution_count": 13,
   "metadata": {},
   "outputs": [],
   "source": [
    "bin = [0,75,80,85,90,95,100]\n",
    "winedata['points'] = pd.cut(winedata['points'],bin)\n",
    "winedata['points'] = winedata['points'].astype('str')"
   ]
  },
  {
   "cell_type": "markdown",
   "metadata": {},
   "source": [
    "_<mark><font color = green>再处理 price</font><mark>_"
   ]
  },
  {
   "cell_type": "code",
   "execution_count": 14,
   "metadata": {},
   "outputs": [],
   "source": [
    "bin = [0,20,30,40,50,60,2100]\n",
    "winedata['price'] = pd.cut(winedata['price'],bin)\n",
    "winedata['price'] = winedata['price'].astype('str')"
   ]
  },
  {
   "cell_type": "markdown",
   "metadata": {},
   "source": [
    "## 三、找出频繁模式"
   ]
  },
  {
   "cell_type": "markdown",
   "metadata": {},
   "source": [
    "**<font color = blue>使用Aprior算法</font>**"
   ]
  },
  {
   "cell_type": "code",
   "execution_count": 17,
   "metadata": {},
   "outputs": [],
   "source": [
    "def createC1( dataSet ):\n",
    "    \"\"\"\n",
    "    构建初始候选项集的列表，即所有候选项集只包含一个元素，\n",
    "    C1是大小为1的所有候选项集的集合\n",
    "    \"\"\"\n",
    "    C1 = []\n",
    "    for transaction in np.array(dataSet):\n",
    "        for item in transaction:\n",
    "            if [item] not in C1:\n",
    "                C1.append( [item] )\n",
    "    C1.sort()\n",
    "    return list(map( frozenset, C1 ))\n",
    "\n",
    "def scanD( D, Ck, minSupport ):\n",
    "    \"\"\"\n",
    "    计算Ck中的项集在数据集合D(记录或者transactions)中的支持度,\n",
    "    返回满足最小支持度的项集的集合，和所有项集支持度信息的字典。\n",
    "    \"\"\"\n",
    "    ssCnt = {}\n",
    "    for tid in D:\n",
    "        # 对于每一条transaction\n",
    "        if Ck is not None:\n",
    "            for can in Ck:\n",
    "                # 对于每一个候选项集can，检查是否是transaction的一部分\n",
    "                # 即该候选can是否得到transaction的支持\n",
    "                if can.issubset( tid ):\n",
    "                    ssCnt[ can ] = ssCnt.get( can, 0) + 1\n",
    "    numItems = float( len( D ) )\n",
    "    retList = []\n",
    "    supportData = {}\n",
    "    for key in ssCnt:\n",
    "        # 每个项集的支持度\n",
    "        support = ssCnt[ key ] / numItems\n",
    "        \n",
    "        # 将满足最小支持度的项集，加入retList\n",
    "        if support >= minSupport:\n",
    "            retList.insert( 0, key )\n",
    "            \n",
    "            # 汇总支持度数据\n",
    "            supportData[ key ] = support\n",
    "    return retList, supportData"
   ]
  },
  {
   "cell_type": "code",
   "execution_count": 16,
   "metadata": {},
   "outputs": [],
   "source": [
    "# Aprior算法\n",
    "def aprioriGen( Lk, k ):\n",
    "    '''\n",
    "    由初始候选项集的集合Lk生成新的生成候选项集，\n",
    "    k表示生成的新项集中所含有的元素个数\n",
    "    '''\n",
    "    retList = []\n",
    "    lenLk = len( Lk )\n",
    "    for i in range( lenLk ):\n",
    "        for j in range( i + 1, lenLk ):\n",
    "            L1 = list( Lk[ i ] )[ : k - 2 ];\n",
    "            L2 = list( Lk[ j ] )[ : k - 2 ];\n",
    "            L1.sort();L2.sort()    \n",
    "            if L1==L2:\n",
    "                retList.append( Lk[ i ] | Lk[ j ] ) \n",
    "    return retList\n",
    "\n",
    "def apriori( dataSet, minSupport = 0.5 ):\n",
    "    # 构建初始候选项集C1\n",
    "    C1 = createC1( dataSet )\n",
    "    \n",
    "    # 将dataSet集合化，以满足scanD的格式要求\n",
    "    D =list( map( set, dataSet ))\n",
    "    \n",
    "    # 构建初始的频繁项集，即所有项集只有一个元素\n",
    "    L1, suppData = scanD( D, C1, minSupport )\n",
    "    L = [ L1 ]\n",
    "    # 最初的L1中的每个项集含有一个元素，新生成的\n",
    "    # 项集应该含有2个元素，所以 k=2\n",
    "    k = 2\n",
    "    \n",
    "    while ( len( L[ k - 2 ] ) > 0 ):\n",
    "        Ck = aprioriGen( L[ k - 2 ], k )\n",
    "        Lk, supK = scanD( D, Ck, minSupport )\n",
    "        \n",
    "        # 将新的项集的支持度数据加入原来的总支持度字典中\n",
    "        suppData.update( supK )\n",
    "        \n",
    "        # 将符合最小支持度要求的项集加入L\n",
    "        L.append( Lk )\n",
    "        \n",
    "        # 新生成的项集中的元素个数应不断增加\n",
    "        k += 1\n",
    "    # 返回所有满足条件的频繁项集的列表，和所有候选项集的支持度信息\n",
    "    return L, suppData"
   ]
  },
  {
   "cell_type": "markdown",
   "metadata": {},
   "source": [
    "**<font color = blue>然后，输出winedata的频繁项集的列表</font>**"
   ]
  },
  {
   "cell_type": "code",
   "execution_count": 47,
   "metadata": {},
   "outputs": [
    {
     "data": {
      "text/plain": [
       "[[frozenset({'(80, 85]'}),\n",
       "  frozenset({'(0, 20]'}),\n",
       "  frozenset({'(85, 90]'}),\n",
       "  frozenset({'(30, 40]'}),\n",
       "  frozenset({'Washington'}),\n",
       "  frozenset({'Columbia Valley'}),\n",
       "  frozenset({'Central Coast'}),\n",
       "  frozenset({'(20, 30]'}),\n",
       "  frozenset({'Chardonnay'}),\n",
       "  frozenset({'(40, 50]'}),\n",
       "  frozenset({'(90, 95]'}),\n",
       "  frozenset({'Pinot Noir'}),\n",
       "  frozenset({'Sonoma'}),\n",
       "  frozenset({'US'}),\n",
       "  frozenset({'Napa'}),\n",
       "  frozenset({'California'}),\n",
       "  frozenset({'Cabernet Sauvignon'}),\n",
       "  frozenset({'(60, 2100]'})],\n",
       " [frozenset({'(80, 85]', 'California'}),\n",
       "  frozenset({'(80, 85]', 'US'}),\n",
       "  frozenset({'(85, 90]', 'Central Coast'}),\n",
       "  frozenset({'(0, 20]', 'California'}),\n",
       "  frozenset({'(0, 20]', 'US'}),\n",
       "  frozenset({'(0, 20]', '(85, 90]'}),\n",
       "  frozenset({'(20, 30]', '(85, 90]'}),\n",
       "  frozenset({'(30, 40]', 'California'}),\n",
       "  frozenset({'(30, 40]', 'US'}),\n",
       "  frozenset({'(85, 90]', 'California'}),\n",
       "  frozenset({'(85, 90]', 'US'}),\n",
       "  frozenset({'(30, 40]', '(85, 90]'}),\n",
       "  frozenset({'Columbia Valley', 'US'}),\n",
       "  frozenset({'US', 'Washington'}),\n",
       "  frozenset({'Columbia Valley', 'Washington'}),\n",
       "  frozenset({'(40, 50]', 'California'}),\n",
       "  frozenset({'California', 'Chardonnay'}),\n",
       "  frozenset({'California', 'Central Coast'}),\n",
       "  frozenset({'Central Coast', 'US'}),\n",
       "  frozenset({'(20, 30]', 'California'}),\n",
       "  frozenset({'(20, 30]', 'US'}),\n",
       "  frozenset({'Chardonnay', 'US'}),\n",
       "  frozenset({'(40, 50]', 'US'}),\n",
       "  frozenset({'California', 'Pinot Noir'}),\n",
       "  frozenset({'(90, 95]', 'California'}),\n",
       "  frozenset({'(90, 95]', 'US'}),\n",
       "  frozenset({'Pinot Noir', 'US'}),\n",
       "  frozenset({'California', 'Sonoma'}),\n",
       "  frozenset({'Sonoma', 'US'}),\n",
       "  frozenset({'Cabernet Sauvignon', 'California'}),\n",
       "  frozenset({'California', 'Napa'}),\n",
       "  frozenset({'(60, 2100]', 'US'}),\n",
       "  frozenset({'Cabernet Sauvignon', 'US'}),\n",
       "  frozenset({'California', 'US'}),\n",
       "  frozenset({'Napa', 'US'})],\n",
       " [frozenset({'(80, 85]', 'California', 'US'}),\n",
       "  frozenset({'(85, 90]', 'Central Coast', 'US'}),\n",
       "  frozenset({'(85, 90]', 'California', 'Central Coast'}),\n",
       "  frozenset({'(0, 20]', 'California', 'US'}),\n",
       "  frozenset({'(0, 20]', '(85, 90]', 'US'}),\n",
       "  frozenset({'(20, 30]', '(85, 90]', 'US'}),\n",
       "  frozenset({'(85, 90]', 'California', 'US'}),\n",
       "  frozenset({'(30, 40]', 'California', 'US'}),\n",
       "  frozenset({'(30, 40]', '(85, 90]', 'US'}),\n",
       "  frozenset({'Columbia Valley', 'US', 'Washington'}),\n",
       "  frozenset({'(40, 50]', 'California', 'US'}),\n",
       "  frozenset({'California', 'Chardonnay', 'US'}),\n",
       "  frozenset({'California', 'Central Coast', 'US'}),\n",
       "  frozenset({'(20, 30]', 'California', 'US'}),\n",
       "  frozenset({'California', 'Pinot Noir', 'US'}),\n",
       "  frozenset({'(90, 95]', 'California', 'US'}),\n",
       "  frozenset({'California', 'Sonoma', 'US'}),\n",
       "  frozenset({'California', 'Napa', 'US'}),\n",
       "  frozenset({'Cabernet Sauvignon', 'California', 'US'})],\n",
       " [frozenset({'(85, 90]', 'California', 'Central Coast', 'US'})],\n",
       " []]"
      ]
     },
     "execution_count": 47,
     "metadata": {},
     "output_type": "execute_result"
    }
   ],
   "source": [
    "# 支持度大于0.1的频繁项集\n",
    "myDat = list(map(set,np.array(winedata)))\n",
    "L, suppData = apriori(myDat, 0.1)\n",
    "L"
   ]
  },
  {
   "cell_type": "markdown",
   "metadata": {},
   "source": [
    "## 四、计算支持度和置信度"
   ]
  },
  {
   "cell_type": "markdown",
   "metadata": {},
   "source": [
    "**<font color = blue>支持度已在‘三’中计算，可调用</font>**"
   ]
  },
  {
   "cell_type": "code",
   "execution_count": 28,
   "metadata": {},
   "outputs": [
    {
     "data": {
      "text/plain": [
       "{frozenset({'(60, 2100]'}): 0.10379450064983053,\n",
       " frozenset({'Cabernet Sauvignon'}): 0.12476746260288983,\n",
       " frozenset({'California'}): 0.7277337478657526,\n",
       " frozenset({'Napa'}): 0.13016997528095614,\n",
       " frozenset({'US'}): 1.0,\n",
       " frozenset({'Sonoma'}): 0.19841492316709564,\n",
       " frozenset({'Pinot Noir'}): 0.19000535154557732,\n",
       " frozenset({'(90, 95]'}): 0.271476262072832,\n",
       " frozenset({'(40, 50]'}): 0.147549756632094,\n",
       " frozenset({'Chardonnay'}): 0.1247419790525216,\n",
       " frozenset({'(20, 30]'}): 0.24296016921077446,\n",
       " frozenset({'Central Coast'}): 0.2331744858693713,\n",
       " frozenset({'Columbia Valley'}): 0.1474223388802528,\n",
       " frozenset({'Washington'}): 0.15601029535434877,\n",
       " frozenset({'(30, 40]'}): 0.19823653831451798,\n",
       " frozenset({'(85, 90]'}): 0.5018730409520654,\n",
       " frozenset({'(0, 20]'}): 0.23786345913712698,\n",
       " frozenset({'(80, 85]'}): 0.209729619530593,\n",
       " frozenset({'Napa', 'US'}): 0.13016997528095614,\n",
       " frozenset({'California', 'US'}): 0.7277337478657526,\n",
       " frozenset({'Cabernet Sauvignon', 'US'}): 0.12476746260288983,\n",
       " frozenset({'(60, 2100]', 'US'}): 0.10379450064983053,\n",
       " frozenset({'California', 'Napa'}): 0.13016997528095614,\n",
       " frozenset({'Cabernet Sauvignon', 'California'}): 0.10313192834025636,\n",
       " frozenset({'Sonoma', 'US'}): 0.19841492316709564,\n",
       " frozenset({'California', 'Sonoma'}): 0.19841492316709564,\n",
       " frozenset({'Pinot Noir', 'US'}): 0.19000535154557732,\n",
       " frozenset({'(90, 95]', 'US'}): 0.271476262072832,\n",
       " frozenset({'(90, 95]', 'California'}): 0.19938329808108865,\n",
       " frozenset({'California', 'Pinot Noir'}): 0.13845212915063326,\n",
       " frozenset({'(40, 50]', 'US'}): 0.147549756632094,\n",
       " frozenset({'Chardonnay', 'US'}): 0.1247419790525216,\n",
       " frozenset({'(20, 30]', 'US'}): 0.24296016921077446,\n",
       " frozenset({'(20, 30]', 'California'}): 0.16763079432226496,\n",
       " frozenset({'Central Coast', 'US'}): 0.2331744858693713,\n",
       " frozenset({'California', 'Central Coast'}): 0.2331744858693713,\n",
       " frozenset({'California', 'Chardonnay'}): 0.10180678372110802,\n",
       " frozenset({'(40, 50]', 'California'}): 0.11001248693968044,\n",
       " frozenset({'Columbia Valley', 'Washington'}): 0.1474223388802528,\n",
       " frozenset({'US', 'Washington'}): 0.15601029535434877,\n",
       " frozenset({'Columbia Valley', 'US'}): 0.1474223388802528,\n",
       " frozenset({'(30, 40]', '(85, 90]'}): 0.10565479982671186,\n",
       " frozenset({'(85, 90]', 'US'}): 0.5018730409520654,\n",
       " frozenset({'(85, 90]', 'California'}): 0.3415050584847481,\n",
       " frozenset({'(30, 40]', 'US'}): 0.19823653831451798,\n",
       " frozenset({'(30, 40]', 'California'}): 0.14969037486302592,\n",
       " frozenset({'(20, 30]', '(85, 90]'}): 0.14283529981397008,\n",
       " frozenset({'(0, 20]', '(85, 90]'}): 0.12764710379450064,\n",
       " frozenset({'(0, 20]', 'US'}): 0.23786345913712698,\n",
       " frozenset({'(0, 20]', 'California'}): 0.15662190056318645,\n",
       " frozenset({'(85, 90]', 'Central Coast'}): 0.11059860859814989,\n",
       " frozenset({'(80, 85]', 'US'}): 0.209729619530593,\n",
       " frozenset({'(80, 85]', 'California'}): 0.1727020208455442,\n",
       " frozenset({'Cabernet Sauvignon', 'California', 'US'}): 0.10313192834025636,\n",
       " frozenset({'California', 'Napa', 'US'}): 0.13016997528095614,\n",
       " frozenset({'California', 'Sonoma', 'US'}): 0.19841492316709564,\n",
       " frozenset({'(90, 95]', 'California', 'US'}): 0.19938329808108865,\n",
       " frozenset({'California', 'Pinot Noir', 'US'}): 0.13845212915063326,\n",
       " frozenset({'(20, 30]', 'California', 'US'}): 0.16763079432226496,\n",
       " frozenset({'California', 'Central Coast', 'US'}): 0.2331744858693713,\n",
       " frozenset({'California', 'Chardonnay', 'US'}): 0.10180678372110802,\n",
       " frozenset({'(40, 50]', 'California', 'US'}): 0.11001248693968044,\n",
       " frozenset({'Columbia Valley', 'US', 'Washington'}): 0.1474223388802528,\n",
       " frozenset({'(30, 40]', '(85, 90]', 'US'}): 0.10565479982671186,\n",
       " frozenset({'(30, 40]', 'California', 'US'}): 0.14969037486302592,\n",
       " frozenset({'(85, 90]', 'California', 'US'}): 0.3415050584847481,\n",
       " frozenset({'(20, 30]', '(85, 90]', 'US'}): 0.14283529981397008,\n",
       " frozenset({'(0, 20]', '(85, 90]', 'US'}): 0.12764710379450064,\n",
       " frozenset({'(0, 20]', 'California', 'US'}): 0.15662190056318645,\n",
       " frozenset({'(85, 90]', 'California', 'Central Coast'}): 0.11059860859814989,\n",
       " frozenset({'(85, 90]', 'Central Coast', 'US'}): 0.11059860859814989,\n",
       " frozenset({'(80, 85]', 'California', 'US'}): 0.1727020208455442,\n",
       " frozenset({'(85, 90]',\n",
       "            'California',\n",
       "            'Central Coast',\n",
       "            'US'}): 0.11059860859814989}"
      ]
     },
     "execution_count": 28,
     "metadata": {},
     "output_type": "execute_result"
    }
   ],
   "source": [
    "suppData"
   ]
  },
  {
   "cell_type": "markdown",
   "metadata": {},
   "source": [
    "**<font color = blue>置信度计算</font>**"
   ]
  },
  {
   "cell_type": "code",
   "execution_count": 63,
   "metadata": {},
   "outputs": [
    {
     "name": "stdout",
     "output_type": "stream",
     "text": [
      "frozenset({'California'}) frozenset({'California', '(80, 85]'}) 0.8234507897934387\n",
      "frozenset({'(80, 85]'}) frozenset({'California', '(80, 85]'}) 0.2373148439962181\n",
      "frozenset({'US'}) frozenset({'US', '(80, 85]'}) 1.0\n",
      "frozenset({'(80, 85]'}) frozenset({'US', '(80, 85]'}) 0.209729619530593\n",
      "frozenset({'Central Coast'}) frozenset({'Central Coast', '(85, 90]'}) 0.22037168680816493\n",
      "frozenset({'(85, 90]'}) frozenset({'Central Coast', '(85, 90]'}) 0.4743169398907104\n",
      "frozenset({'(0, 20]'}) frozenset({'(0, 20]', 'California'}) 0.21521868543614525\n",
      "frozenset({'California'}) frozenset({'(0, 20]', 'California'}) 0.6584529676451681\n",
      "frozenset({'US'}) frozenset({'US', '(0, 20]'}) 1.0\n",
      "frozenset({'(0, 20]'}) frozenset({'US', '(0, 20]'}) 0.23786345913712698\n",
      "frozenset({'(0, 20]'}) frozenset({'(0, 20]', '(85, 90]'}) 0.25434142378389357\n",
      "frozenset({'(85, 90]'}) frozenset({'(0, 20]', '(85, 90]'}) 0.5366402399828584\n",
      "frozenset({'(20, 30]'}) frozenset({'(20, 30]', '(85, 90]'}) 0.28460444805524526\n",
      "frozenset({'(85, 90]'}) frozenset({'(20, 30]', '(85, 90]'}) 0.5878959513320746\n",
      "frozenset({'(30, 40]'}) frozenset({'(30, 40]', 'California'}) 0.2056938754070806\n",
      "frozenset({'California'}) frozenset({'(30, 40]', 'California'}) 0.7551099112996529\n",
      "frozenset({'US'}) frozenset({'US', '(30, 40]'}) 1.0\n",
      "frozenset({'(30, 40]'}) frozenset({'US', '(30, 40]'}) 0.19823653831451798\n",
      "frozenset({'(85, 90]'}) frozenset({'(85, 90]', 'California'}) 0.46927198235108736\n",
      "frozenset({'California'}) frozenset({'(85, 90]', 'California'}) 0.6804610541281609\n",
      "frozenset({'US'}) frozenset({'US', '(85, 90]'}) 1.0\n",
      "frozenset({'(85, 90]'}) frozenset({'US', '(85, 90]'}) 0.5018730409520654\n",
      "frozenset({'(30, 40]'}) frozenset({'(30, 40]', '(85, 90]'}) 0.21052097085406724\n",
      "frozenset({'(85, 90]'}) frozenset({'(30, 40]', '(85, 90]'}) 0.5329733898958735\n",
      "frozenset({'US'}) frozenset({'US', 'Columbia Valley'}) 1.0\n",
      "frozenset({'Columbia Valley'}) frozenset({'US', 'Columbia Valley'}) 0.1474223388802528\n",
      "frozenset({'US'}) frozenset({'US', 'Washington'}) 1.0\n",
      "frozenset({'Washington'}) frozenset({'US', 'Washington'}) 0.15601029535434877\n",
      "frozenset({'Washington'}) frozenset({'Washington', 'Columbia Valley'}) 1.0\n",
      "frozenset({'Columbia Valley'}) frozenset({'Washington', 'Columbia Valley'}) 0.9449526298595231\n",
      "frozenset({'(40, 50]'}) frozenset({'(40, 50]', 'California'}) 0.1511713415274714\n",
      "frozenset({'California'}) frozenset({'(40, 50]', 'California'}) 0.7455958549222798\n",
      "frozenset({'Chardonnay'}) frozenset({'Chardonnay', 'California'}) 0.13989564730188744\n",
      "frozenset({'California'}) frozenset({'Chardonnay', 'California'}) 0.8161389172625126\n",
      "frozenset({'Central Coast'}) frozenset({'Central Coast', 'California'}) 0.3204118079630213\n",
      "frozenset({'California'}) frozenset({'Central Coast', 'California'}) 1.0\n",
      "frozenset({'US'}) frozenset({'US', 'Central Coast'}) 1.0\n",
      "frozenset({'Central Coast'}) frozenset({'US', 'Central Coast'}) 0.2331744858693713\n",
      "frozenset({'(20, 30]'}) frozenset({'(20, 30]', 'California'}) 0.2303463248940715\n",
      "frozenset({'California'}) frozenset({'(20, 30]', 'California'}) 0.6899517516257604\n",
      "frozenset({'US'}) frozenset({'US', '(20, 30]'}) 1.0\n",
      "frozenset({'(20, 30]'}) frozenset({'US', '(20, 30]'}) 0.24296016921077446\n",
      "frozenset({'US'}) frozenset({'US', 'Chardonnay'}) 1.0\n",
      "frozenset({'Chardonnay'}) frozenset({'US', 'Chardonnay'}) 0.1247419790525216\n",
      "frozenset({'US'}) frozenset({'US', '(40, 50]'}) 1.0\n",
      "frozenset({'(40, 50]'}) frozenset({'US', '(40, 50]'}) 0.147549756632094\n",
      "frozenset({'Pinot Noir'}) frozenset({'Pinot Noir', 'California'}) 0.19025107679378087\n",
      "frozenset({'California'}) frozenset({'Pinot Noir', 'California'}) 0.7286748927038627\n",
      "frozenset({'(90, 95]'}) frozenset({'(90, 95]', 'California'}) 0.273978359071331\n",
      "frozenset({'California'}) frozenset({'(90, 95]', 'California'}) 0.7344410025344973\n",
      "frozenset({'US'}) frozenset({'US', '(90, 95]'}) 1.0\n",
      "frozenset({'(90, 95]'}) frozenset({'US', '(90, 95]'}) 0.271476262072832\n",
      "frozenset({'US'}) frozenset({'US', 'Pinot Noir'}) 1.0\n",
      "frozenset({'Pinot Noir'}) frozenset({'US', 'Pinot Noir'}) 0.19000535154557732\n",
      "frozenset({'California'}) frozenset({'California', 'Sonoma'}) 1.0\n",
      "frozenset({'Sonoma'}) frozenset({'California', 'Sonoma'}) 0.2726476870819764\n",
      "frozenset({'US'}) frozenset({'US', 'Sonoma'}) 1.0\n",
      "frozenset({'Sonoma'}) frozenset({'US', 'Sonoma'}) 0.19841492316709564\n",
      "frozenset({'Cabernet Sauvignon'}) frozenset({'Cabernet Sauvignon', 'California'}) 0.14171656686626746\n",
      "frozenset({'California'}) frozenset({'Cabernet Sauvignon', 'California'}) 0.826593137254902\n",
      "frozenset({'California'}) frozenset({'California', 'Napa'}) 1.0\n",
      "frozenset({'Napa'}) frozenset({'California', 'Napa'}) 0.1788703295164058\n",
      "frozenset({'US'}) frozenset({'US', '(60, 2100]'}) 1.0\n",
      "frozenset({'(60, 2100]'}) frozenset({'US', '(60, 2100]'}) 0.10379450064983053\n",
      "frozenset({'US'}) frozenset({'US', 'Cabernet Sauvignon'}) 1.0\n",
      "frozenset({'Cabernet Sauvignon'}) frozenset({'US', 'Cabernet Sauvignon'}) 0.12476746260288983\n",
      "frozenset({'US'}) frozenset({'US', 'California'}) 1.0\n",
      "frozenset({'California'}) frozenset({'US', 'California'}) 0.7277337478657526\n",
      "frozenset({'US'}) frozenset({'US', 'Napa'}) 1.0\n",
      "frozenset({'Napa'}) frozenset({'US', 'Napa'}) 0.13016997528095614\n",
      "frozenset({'US'}) frozenset({'US', 'California', '(80, 85]'}) 1.0\n",
      "frozenset({'California'}) frozenset({'US', 'California', '(80, 85]'}) 0.8234507897934387\n",
      "frozenset({'(80, 85]'}) frozenset({'US', 'California', '(80, 85]'}) 0.2373148439962181\n",
      "frozenset({'US'}) frozenset({'US', 'Central Coast', '(85, 90]'}) 1.0\n",
      "frozenset({'Central Coast'}) frozenset({'US', 'Central Coast', '(85, 90]'}) 0.22037168680816493\n",
      "frozenset({'(85, 90]'}) frozenset({'US', 'Central Coast', '(85, 90]'}) 0.4743169398907104\n",
      "frozenset({'Central Coast'}) frozenset({'Central Coast', '(85, 90]', 'California'}) 0.32385642862472946\n",
      "frozenset({'(85, 90]'}) frozenset({'Central Coast', '(85, 90]', 'California'}) 0.4743169398907104\n",
      "frozenset({'California'}) frozenset({'Central Coast', '(85, 90]', 'California'}) 1.0\n",
      "frozenset({'US'}) frozenset({'US', '(0, 20]', 'California'}) 1.0\n",
      "frozenset({'(0, 20]'}) frozenset({'US', '(0, 20]', 'California'}) 0.21521868543614525\n",
      "frozenset({'California'}) frozenset({'US', '(0, 20]', 'California'}) 0.6584529676451681\n",
      "frozenset({'US'}) frozenset({'US', '(0, 20]', '(85, 90]'}) 1.0\n",
      "frozenset({'(0, 20]'}) frozenset({'US', '(0, 20]', '(85, 90]'}) 0.25434142378389357\n",
      "frozenset({'(85, 90]'}) frozenset({'US', '(0, 20]', '(85, 90]'}) 0.5366402399828584\n",
      "frozenset({'US'}) frozenset({'US', '(20, 30]', '(85, 90]'}) 1.0\n",
      "frozenset({'(20, 30]'}) frozenset({'US', '(20, 30]', '(85, 90]'}) 0.28460444805524526\n",
      "frozenset({'(85, 90]'}) frozenset({'US', '(20, 30]', '(85, 90]'}) 0.5878959513320746\n",
      "frozenset({'US'}) frozenset({'US', '(85, 90]', 'California'}) 1.0\n",
      "frozenset({'(85, 90]'}) frozenset({'US', '(85, 90]', 'California'}) 0.46927198235108736\n",
      "frozenset({'California'}) frozenset({'US', '(85, 90]', 'California'}) 0.6804610541281609\n",
      "frozenset({'US'}) frozenset({'US', '(30, 40]', 'California'}) 1.0\n",
      "frozenset({'(30, 40]'}) frozenset({'US', '(30, 40]', 'California'}) 0.2056938754070806\n",
      "frozenset({'California'}) frozenset({'US', '(30, 40]', 'California'}) 0.7551099112996529\n",
      "frozenset({'US'}) frozenset({'US', '(30, 40]', '(85, 90]'}) 1.0\n",
      "frozenset({'(30, 40]'}) frozenset({'US', '(30, 40]', '(85, 90]'}) 0.21052097085406724\n",
      "frozenset({'(85, 90]'}) frozenset({'US', '(30, 40]', '(85, 90]'}) 0.5329733898958735\n",
      "frozenset({'US'}) frozenset({'US', 'Washington', 'Columbia Valley'}) 1.0\n",
      "frozenset({'Washington'}) frozenset({'US', 'Washington', 'Columbia Valley'}) 1.0\n",
      "frozenset({'Columbia Valley'}) frozenset({'US', 'Washington', 'Columbia Valley'}) 0.9449526298595231\n",
      "frozenset({'US'}) frozenset({'US', '(40, 50]', 'California'}) 1.0\n",
      "frozenset({'(40, 50]'}) frozenset({'US', '(40, 50]', 'California'}) 0.1511713415274714\n",
      "frozenset({'California'}) frozenset({'US', '(40, 50]', 'California'}) 0.7455958549222798\n",
      "frozenset({'US'}) frozenset({'US', 'Chardonnay', 'California'}) 1.0\n",
      "frozenset({'Chardonnay'}) frozenset({'US', 'Chardonnay', 'California'}) 0.13989564730188744\n",
      "frozenset({'California'}) frozenset({'US', 'Chardonnay', 'California'}) 0.8161389172625126\n",
      "frozenset({'US'}) frozenset({'US', 'Central Coast', 'California'}) 1.0\n",
      "frozenset({'Central Coast'}) frozenset({'US', 'Central Coast', 'California'}) 0.3204118079630213\n",
      "frozenset({'California'}) frozenset({'US', 'Central Coast', 'California'}) 1.0\n",
      "frozenset({'US'}) frozenset({'US', '(20, 30]', 'California'}) 1.0\n",
      "frozenset({'(20, 30]'}) frozenset({'US', '(20, 30]', 'California'}) 0.2303463248940715\n",
      "frozenset({'California'}) frozenset({'US', '(20, 30]', 'California'}) 0.6899517516257604\n",
      "frozenset({'US'}) frozenset({'US', 'Pinot Noir', 'California'}) 1.0\n",
      "frozenset({'Pinot Noir'}) frozenset({'US', 'Pinot Noir', 'California'}) 0.19025107679378087\n",
      "frozenset({'California'}) frozenset({'US', 'Pinot Noir', 'California'}) 0.7286748927038627\n",
      "frozenset({'US'}) frozenset({'US', '(90, 95]', 'California'}) 1.0\n",
      "frozenset({'(90, 95]'}) frozenset({'US', '(90, 95]', 'California'}) 0.273978359071331\n",
      "frozenset({'California'}) frozenset({'US', '(90, 95]', 'California'}) 0.7344410025344973\n",
      "frozenset({'US'}) frozenset({'US', 'California', 'Sonoma'}) 1.0\n",
      "frozenset({'California'}) frozenset({'US', 'California', 'Sonoma'}) 1.0\n",
      "frozenset({'Sonoma'}) frozenset({'US', 'California', 'Sonoma'}) 0.2726476870819764\n",
      "frozenset({'US'}) frozenset({'US', 'California', 'Napa'}) 1.0\n",
      "frozenset({'California'}) frozenset({'US', 'California', 'Napa'}) 1.0\n",
      "frozenset({'Napa'}) frozenset({'US', 'California', 'Napa'}) 0.1788703295164058\n",
      "frozenset({'US'}) frozenset({'US', 'Cabernet Sauvignon', 'California'}) 1.0\n",
      "frozenset({'Cabernet Sauvignon'}) frozenset({'US', 'Cabernet Sauvignon', 'California'}) 0.14171656686626746\n",
      "frozenset({'California'}) frozenset({'US', 'Cabernet Sauvignon', 'California'}) 0.826593137254902\n",
      "frozenset({'(85, 90]'}) frozenset({'(85, 90]', 'US', 'Central Coast', 'California'}) 0.4743169398907104\n",
      "frozenset({'US'}) frozenset({'(85, 90]', 'US', 'Central Coast', 'California'}) 1.0\n",
      "frozenset({'Central Coast'}) frozenset({'(85, 90]', 'US', 'Central Coast', 'California'}) 0.32385642862472946\n",
      "frozenset({'California'}) frozenset({'(85, 90]', 'US', 'Central Coast', 'California'}) 1.0\n"
     ]
    }
   ],
   "source": [
    "confList = []\n",
    "for itemSet in L:\n",
    "    for record in itemSet:\n",
    "        if(len(record)>1): \n",
    "            for i in record: \n",
    "                tar = suppData[frozenset([i])]\n",
    "                bset = record - frozenset([i])\n",
    "                aset = suppData[record]\n",
    "                ret = suppData.get(bset)\n",
    "                try:\n",
    "                    if suppData.get(bset):\n",
    "                        con = aset/ret\n",
    "                        print(frozenset([i]),record,con)\n",
    "                        confList.append([frozenset([i]),record,con])\n",
    "                except TypeError as e:\n",
    "                    print(e)"
   ]
  },
  {
   "cell_type": "markdown",
   "metadata": {},
   "source": [
    "## 五、对规则进行评价"
   ]
  },
  {
   "cell_type": "markdown",
   "metadata": {},
   "source": [
    "**<font color = blue>Lift</font>**"
   ]
  },
  {
   "cell_type": "markdown",
   "metadata": {},
   "source": [
    "    Lift相关系数\n",
    "    每个X和评分85-90Y的关系设为\n",
    "    lift(X->Y) = supp(X U Y)/supp(X) * supp(Y)"
   ]
  },
  {
   "cell_type": "code",
   "execution_count": 65,
   "metadata": {},
   "outputs": [],
   "source": [
    "def liftCheck(conList,suppData):\n",
    "    liftList_true=[]\n",
    "    liftList_no=[]\n",
    "    liftList_false=[]\n",
    "    for item in confList:\n",
    "        score = suppData.get(item[1])/(suppData.get(item[0])*suppData.get(item[1]-item[0]))\n",
    "        if score>1:\n",
    "            liftList_true.append(item)\n",
    "        if score<1:\n",
    "            liftList_false.append(item)\n",
    "        if score ==1:\n",
    "            liftList_no.append(item)\n",
    "    return liftList_true,liftList_no,liftList_false"
   ]
  },
  {
   "cell_type": "code",
   "execution_count": 66,
   "metadata": {},
   "outputs": [],
   "source": [
    "yes,no,false = liftCheck(confList,suppData)"
   ]
  },
  {
   "cell_type": "code",
   "execution_count": 67,
   "metadata": {},
   "outputs": [
    {
     "data": {
      "text/plain": [
       "[[frozenset({'Washington'}),\n",
       "  frozenset({'Columbia Valley', 'Washington'}),\n",
       "  1.0],\n",
       " [frozenset({'Columbia Valley'}),\n",
       "  frozenset({'Columbia Valley', 'Washington'}),\n",
       "  0.9449526298595231],\n",
       " [frozenset({'California'}), frozenset({'California', 'Central Coast'}), 1.0],\n",
       " [frozenset({'California'}), frozenset({'California', 'Sonoma'}), 1.0],\n",
       " [frozenset({'California'}), frozenset({'California', 'Napa'}), 1.0],\n",
       " [frozenset({'California'}),\n",
       "  frozenset({'(85, 90]', 'California', 'Central Coast'}),\n",
       "  1.0],\n",
       " [frozenset({'Washington'}),\n",
       "  frozenset({'Columbia Valley', 'US', 'Washington'}),\n",
       "  1.0],\n",
       " [frozenset({'Columbia Valley'}),\n",
       "  frozenset({'Columbia Valley', 'US', 'Washington'}),\n",
       "  0.9449526298595231],\n",
       " [frozenset({'California'}),\n",
       "  frozenset({'California', 'Central Coast', 'US'}),\n",
       "  1.0],\n",
       " [frozenset({'California'}), frozenset({'California', 'Sonoma', 'US'}), 1.0],\n",
       " [frozenset({'California'}), frozenset({'California', 'Napa', 'US'}), 1.0],\n",
       " [frozenset({'California'}),\n",
       "  frozenset({'(85, 90]', 'California', 'Central Coast', 'US'}),\n",
       "  1.0]]"
      ]
     },
     "execution_count": 67,
     "metadata": {},
     "output_type": "execute_result"
    }
   ],
   "source": [
    "\"\"\"查看正相关的关联规则\"\"\"\n",
    "yes"
   ]
  },
  {
   "cell_type": "markdown",
   "metadata": {},
   "source": [
    "**<font color = blue>全自信度</font>**"
   ]
  },
  {
   "cell_type": "markdown",
   "metadata": {},
   "source": [
    "    全自信度检验\n",
    "    全自信度all_confidence的定义如下：\n",
    "    all_confidence(A,B)=P(A交B)/max{P(A),P(B)}\n",
    "     =min{P(B|A),P(A|B)}\n",
    "     =min{confidence(A—>B),confidence(B—>A)}"
   ]
  },
  {
   "cell_type": "code",
   "execution_count": 76,
   "metadata": {},
   "outputs": [],
   "source": [
    "def all_confidence(conList,suppData):\n",
    "    result = []\n",
    "    for item in confList:\n",
    "        score = suppData.get(item[1])/max(suppData.get(item[0]),suppData.get(item[1]-item[0]))\n",
    "        result.append(['全自信度为:{0}'.format(score),item])\n",
    "    return result"
   ]
  },
  {
   "cell_type": "code",
   "execution_count": 80,
   "metadata": {},
   "outputs": [
    {
     "data": {
      "text/plain": [
       "[['全自信度为:0.209729619530593',\n",
       "  [frozenset({'US'}), frozenset({'(80, 85]', 'US'}), 1.0]],\n",
       " ['全自信度为:0.23786345913712698',\n",
       "  [frozenset({'US'}), frozenset({'(0, 20]', 'US'}), 1.0]],\n",
       " ['全自信度为:0.19823653831451798',\n",
       "  [frozenset({'US'}), frozenset({'(30, 40]', 'US'}), 1.0]],\n",
       " ['全自信度为:0.5018730409520654',\n",
       "  [frozenset({'US'}), frozenset({'(85, 90]', 'US'}), 1.0]],\n",
       " ['全自信度为:0.1474223388802528',\n",
       "  [frozenset({'US'}), frozenset({'Columbia Valley', 'US'}), 1.0]],\n",
       " ['全自信度为:0.15601029535434877',\n",
       "  [frozenset({'US'}), frozenset({'US', 'Washington'}), 1.0]],\n",
       " ['全自信度为:0.9449526298595231',\n",
       "  [frozenset({'Washington'}),\n",
       "   frozenset({'Columbia Valley', 'Washington'}),\n",
       "   1.0]],\n",
       " ['全自信度为:0.9449526298595231',\n",
       "  [frozenset({'Columbia Valley'}),\n",
       "   frozenset({'Columbia Valley', 'Washington'}),\n",
       "   0.9449526298595231]],\n",
       " ['全自信度为:0.3204118079630213',\n",
       "  [frozenset({'California'}),\n",
       "   frozenset({'California', 'Central Coast'}),\n",
       "   1.0]],\n",
       " ['全自信度为:0.2331744858693713',\n",
       "  [frozenset({'US'}), frozenset({'Central Coast', 'US'}), 1.0]],\n",
       " ['全自信度为:0.24296016921077446',\n",
       "  [frozenset({'US'}), frozenset({'(20, 30]', 'US'}), 1.0]],\n",
       " ['全自信度为:0.1247419790525216',\n",
       "  [frozenset({'US'}), frozenset({'Chardonnay', 'US'}), 1.0]],\n",
       " ['全自信度为:0.147549756632094',\n",
       "  [frozenset({'US'}), frozenset({'(40, 50]', 'US'}), 1.0]],\n",
       " ['全自信度为:0.271476262072832',\n",
       "  [frozenset({'US'}), frozenset({'(90, 95]', 'US'}), 1.0]],\n",
       " ['全自信度为:0.19000535154557732',\n",
       "  [frozenset({'US'}), frozenset({'Pinot Noir', 'US'}), 1.0]],\n",
       " ['全自信度为:0.2726476870819764',\n",
       "  [frozenset({'California'}), frozenset({'California', 'Sonoma'}), 1.0]],\n",
       " ['全自信度为:0.19841492316709564',\n",
       "  [frozenset({'US'}), frozenset({'Sonoma', 'US'}), 1.0]],\n",
       " ['全自信度为:0.1788703295164058',\n",
       "  [frozenset({'California'}), frozenset({'California', 'Napa'}), 1.0]],\n",
       " ['全自信度为:0.10379450064983053',\n",
       "  [frozenset({'US'}), frozenset({'(60, 2100]', 'US'}), 1.0]],\n",
       " ['全自信度为:0.12476746260288983',\n",
       "  [frozenset({'US'}), frozenset({'Cabernet Sauvignon', 'US'}), 1.0]],\n",
       " ['全自信度为:0.7277337478657526',\n",
       "  [frozenset({'US'}), frozenset({'California', 'US'}), 1.0]],\n",
       " ['全自信度为:0.13016997528095614',\n",
       "  [frozenset({'US'}), frozenset({'Napa', 'US'}), 1.0]],\n",
       " ['全自信度为:0.1727020208455442',\n",
       "  [frozenset({'US'}), frozenset({'(80, 85]', 'California', 'US'}), 1.0]],\n",
       " ['全自信度为:0.11059860859814989',\n",
       "  [frozenset({'US'}), frozenset({'(85, 90]', 'Central Coast', 'US'}), 1.0]],\n",
       " ['全自信度为:0.15197674825787022',\n",
       "  [frozenset({'California'}),\n",
       "   frozenset({'(85, 90]', 'California', 'Central Coast'}),\n",
       "   1.0]],\n",
       " ['全自信度为:0.15662190056318645',\n",
       "  [frozenset({'US'}), frozenset({'(0, 20]', 'California', 'US'}), 1.0]],\n",
       " ['全自信度为:0.12764710379450064',\n",
       "  [frozenset({'US'}), frozenset({'(0, 20]', '(85, 90]', 'US'}), 1.0]],\n",
       " ['全自信度为:0.14283529981397008',\n",
       "  [frozenset({'US'}), frozenset({'(20, 30]', '(85, 90]', 'US'}), 1.0]],\n",
       " ['全自信度为:0.3415050584847481',\n",
       "  [frozenset({'US'}), frozenset({'(85, 90]', 'California', 'US'}), 1.0]],\n",
       " ['全自信度为:0.14969037486302592',\n",
       "  [frozenset({'US'}), frozenset({'(30, 40]', 'California', 'US'}), 1.0]],\n",
       " ['全自信度为:0.10565479982671186',\n",
       "  [frozenset({'US'}), frozenset({'(30, 40]', '(85, 90]', 'US'}), 1.0]],\n",
       " ['全自信度为:0.1474223388802528',\n",
       "  [frozenset({'US'}),\n",
       "   frozenset({'Columbia Valley', 'US', 'Washington'}),\n",
       "   1.0]],\n",
       " ['全自信度为:0.9449526298595231',\n",
       "  [frozenset({'Washington'}),\n",
       "   frozenset({'Columbia Valley', 'US', 'Washington'}),\n",
       "   1.0]],\n",
       " ['全自信度为:0.9449526298595231',\n",
       "  [frozenset({'Columbia Valley'}),\n",
       "   frozenset({'Columbia Valley', 'US', 'Washington'}),\n",
       "   0.9449526298595231]],\n",
       " ['全自信度为:0.11001248693968044',\n",
       "  [frozenset({'US'}), frozenset({'(40, 50]', 'California', 'US'}), 1.0]],\n",
       " ['全自信度为:0.10180678372110802',\n",
       "  [frozenset({'US'}), frozenset({'California', 'Chardonnay', 'US'}), 1.0]],\n",
       " ['全自信度为:0.2331744858693713',\n",
       "  [frozenset({'US'}), frozenset({'California', 'Central Coast', 'US'}), 1.0]],\n",
       " ['全自信度为:0.3204118079630213',\n",
       "  [frozenset({'California'}),\n",
       "   frozenset({'California', 'Central Coast', 'US'}),\n",
       "   1.0]],\n",
       " ['全自信度为:0.16763079432226496',\n",
       "  [frozenset({'US'}), frozenset({'(20, 30]', 'California', 'US'}), 1.0]],\n",
       " ['全自信度为:0.13845212915063326',\n",
       "  [frozenset({'US'}), frozenset({'California', 'Pinot Noir', 'US'}), 1.0]],\n",
       " ['全自信度为:0.19938329808108865',\n",
       "  [frozenset({'US'}), frozenset({'(90, 95]', 'California', 'US'}), 1.0]],\n",
       " ['全自信度为:0.19841492316709564',\n",
       "  [frozenset({'US'}), frozenset({'California', 'Sonoma', 'US'}), 1.0]],\n",
       " ['全自信度为:0.2726476870819764',\n",
       "  [frozenset({'California'}), frozenset({'California', 'Sonoma', 'US'}), 1.0]],\n",
       " ['全自信度为:0.13016997528095614',\n",
       "  [frozenset({'US'}), frozenset({'California', 'Napa', 'US'}), 1.0]],\n",
       " ['全自信度为:0.1788703295164058',\n",
       "  [frozenset({'California'}), frozenset({'California', 'Napa', 'US'}), 1.0]],\n",
       " ['全自信度为:0.10313192834025636',\n",
       "  [frozenset({'US'}),\n",
       "   frozenset({'Cabernet Sauvignon', 'California', 'US'}),\n",
       "   1.0]],\n",
       " ['全自信度为:0.11059860859814989',\n",
       "  [frozenset({'US'}),\n",
       "   frozenset({'(85, 90]', 'California', 'Central Coast', 'US'}),\n",
       "   1.0]],\n",
       " ['全自信度为:0.15197674825787022',\n",
       "  [frozenset({'California'}),\n",
       "   frozenset({'(85, 90]', 'California', 'Central Coast', 'US'}),\n",
       "   1.0]]]"
      ]
     },
     "execution_count": 80,
     "metadata": {},
     "output_type": "execute_result"
    }
   ],
   "source": [
    "conf = all_confidence(confList,suppData)\n",
    "conf"
   ]
  },
  {
   "cell_type": "markdown",
   "metadata": {},
   "source": [
    "## 六、可视化"
   ]
  },
  {
   "cell_type": "markdown",
   "metadata": {},
   "source": [
    "**<font color = blue>支持度与置信度可视化</font>**"
   ]
  },
  {
   "cell_type": "code",
   "execution_count": 98,
   "metadata": {},
   "outputs": [],
   "source": [
    "item = conf[0]\n",
    "support = item[1][2]\n",
    "confidence = item[0].split(':')[1]"
   ]
  },
  {
   "cell_type": "code",
   "execution_count": 108,
   "metadata": {},
   "outputs": [
    {
     "data": {
      "image/png": "[encoded data removed]",
      "text/plain": [
       "<Figure size 432x288 with 1 Axes>"
      ]
     },
     "metadata": {
      "needs_background": "light"
     },
     "output_type": "display_data"
    }
   ],
   "source": [
    "\n",
    "k1 = support \n",
    "k2 = confidence  \n",
    "plt.plot( k1, 's-', color = 'b', label=\"support\")  \n",
    "plt.plot( k2, 'o-', color = 'y', label=\"confidence\")  \n",
    "plt.xlabel(item[1][1]) \n",
    "plt.legend(loc=\"best\") \n",
    "plt.title(\"support-confidence chart\")\n",
    "plt.show()"
   ]
  },
  {
   "cell_type": "markdown",
   "metadata": {},
   "source": [
    "# 七、实验分析"
   ]
  },
  {
   "cell_type": "markdown",
   "metadata": {},
   "source": [
    "    本实验通过Apriori算法按照support，confidence，LIFT等指标计算出了频繁项集和他们之间的关系，挖掘出了关于葡萄酒产地与评分、与价格之间的关系"
   ]
  },
  {
   "cell_type": "code",
   "execution_count": null,
   "metadata": {},
   "outputs": [],
   "source": []
  }
 ],
 "metadata": {
  "kernelspec": {
   "display_name": "Python 3",
   "language": "python",
   "name": "python3"
  },
  "language_info": {
   "codemirror_mode": {
    "name": "ipython",
    "version": 3
   },
   "file_extension": ".py",
   "mimetype": "text/x-python",
   "name": "python",
   "nbconvert_exporter": "python",
   "pygments_lexer": "ipython3",
   "version": "3.6.8"
  }
 },
 "nbformat": 4,
 "nbformat_minor": 4
}
